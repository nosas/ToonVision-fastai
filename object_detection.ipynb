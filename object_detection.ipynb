{
    "cells": [
        {
            "cell_type": "markdown",
            "source": [
                "# FastAI Practice: Object Detection\n",
                "\n",
                "Creating an object detection model with FastAI to detect ToonTown entities (Cogs vs Toons) with\n",
                "    BoundingBoxes.\n",
                "\n",
                "\n",
                "## Future enhancements:\n",
                "\n",
                "-    [Polygonal segmentation](http://www.cs.toronto.edu/polyrnn/) around the entities\n",
                "\n",
                "## Necessary enhancements:\n",
                "\n",
                "1.    Create dataset with Cogs and Toons in BoundingBoxes \n",
                "        * Would be cool to leverage the image classification model we made earlier\n",
                "1.    Verify images in the dataset\n",
                "        * Create common function library\n",
                "1.    Train a single-class (Cogs only) object detection model\n",
                "1.    Train a multi-class (Cogs&Toons) object detection model\n",
                "1.    Create upload and detection widget "
            ],
            "metadata": {}
        },
        {
            "cell_type": "markdown",
            "source": [
                "## Retrieve and verify all entity images\n"
            ],
            "metadata": {}
        }
    ],
    "metadata": {
        "orig_nbformat": 4,
        "language_info": {
            "name": "python",
            "version": "3.9.5",
            "mimetype": "text/x-python",
            "codemirror_mode": {
                "name": "ipython",
                "version": 3
            },
            "pygments_lexer": "ipython3",
            "nbconvert_exporter": "python",
            "file_extension": ".py"
        },
        "kernelspec": {
            "name": "python3",
            "display_name": "Python 3.9.5 64-bit ('fastai_env': venv)"
        },
        "interpreter": {
            "hash": "5652f56a26e610f49945dff388a0a4acd5bf73f07ee4b5843e53313fbfb8969f"
        }
    },
    "nbformat": 4,
    "nbformat_minor": 2
}